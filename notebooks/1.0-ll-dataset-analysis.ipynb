{
 "cells": [
  {
   "cell_type": "markdown",
   "metadata": {},
   "source": [
    "# **Dataset Analysis**"
   ]
  },
  {
   "cell_type": "code",
   "execution_count": 1,
   "metadata": {},
   "outputs": [],
   "source": [
    "import os\n",
    "import sys\n",
    "sys.path.append('\\\\'.join(os.getcwd().split('\\\\')[:-1])+'\\\\src')\n",
    "\n",
    "import json\n",
    "import pandas as pd\n",
    "import matplotlib.pyplot as plt"
   ]
  },
  {
   "cell_type": "code",
   "execution_count": 2,
   "metadata": {},
   "outputs": [],
   "source": [
    "PROJECT_ROOT = os.path.abspath(os.path.join(os.getcwd(), os.pardir))\n",
    "EN_TRAIN_PATH = os.path.join(PROJECT_ROOT, \"data\", \"raw\", \"train\", \"mushroom.en-train_nolabel.v1.jsonl\")\n",
    "EN_VAL_PATH = os.path.join(PROJECT_ROOT, \"data\", \"raw\", \"val\", \"mushroom.en-val.v2.jsonl\")"
   ]
  },
  {
   "cell_type": "code",
   "execution_count": 3,
   "metadata": {},
   "outputs": [],
   "source": [
    "def load_data(data_path):\n",
    "    dataset = []\n",
    "    \n",
    "    with open(data_path, 'r') as data:\n",
    "        for line in data:\n",
    "            dataset.append(json.loads(line))\n",
    "    \n",
    "    data.close()\n",
    "\n",
    "    dataset_df = pd.DataFrame(dataset)\n",
    "\n",
    "    return dataset_df"
   ]
  },
  {
   "cell_type": "code",
   "execution_count": 4,
   "metadata": {},
   "outputs": [],
   "source": [
    "train_set = load_data(EN_TRAIN_PATH)\n",
    "val_set = load_data(EN_VAL_PATH)"
   ]
  },
  {
   "cell_type": "code",
   "execution_count": 5,
   "metadata": {},
   "outputs": [
    {
     "data": {
      "text/html": [
       "<div>\n",
       "<style scoped>\n",
       "    .dataframe tbody tr th:only-of-type {\n",
       "        vertical-align: middle;\n",
       "    }\n",
       "\n",
       "    .dataframe tbody tr th {\n",
       "        vertical-align: top;\n",
       "    }\n",
       "\n",
       "    .dataframe thead th {\n",
       "        text-align: right;\n",
       "    }\n",
       "</style>\n",
       "<table border=\"1\" class=\"dataframe\">\n",
       "  <thead>\n",
       "    <tr style=\"text-align: right;\">\n",
       "      <th></th>\n",
       "      <th>lang</th>\n",
       "      <th>model_id</th>\n",
       "      <th>model_input</th>\n",
       "      <th>model_output_text</th>\n",
       "      <th>model_output_logits</th>\n",
       "      <th>model_output_tokens</th>\n",
       "    </tr>\n",
       "  </thead>\n",
       "  <tbody>\n",
       "    <tr>\n",
       "      <th>0</th>\n",
       "      <td>EN</td>\n",
       "      <td>togethercomputer/Pythia-Chat-Base-7B</td>\n",
       "      <td>Do all arthropods have antennae?</td>\n",
       "      <td>Yes, all insects and arachnids (including spi...</td>\n",
       "      <td>[-2.57427001, 5.1865358353, 5.4173498154, 2.32...</td>\n",
       "      <td>[ĠYes, ,, Ġall, Ġinsects, Ġand, Ġar, ach, n, i...</td>\n",
       "    </tr>\n",
       "    <tr>\n",
       "      <th>1</th>\n",
       "      <td>EN</td>\n",
       "      <td>togethercomputer/Pythia-Chat-Base-7B</td>\n",
       "      <td>Do all arthropods have antennae?</td>\n",
       "      <td>Yes, all insects and arachnids have at least ...</td>\n",
       "      <td>[-2.57427001, 5.1865358353, 5.4173498154, 2.32...</td>\n",
       "      <td>[ĠYes, ,, Ġall, Ġinsects, Ġand, Ġar, ach, n, i...</td>\n",
       "    </tr>\n",
       "    <tr>\n",
       "      <th>2</th>\n",
       "      <td>EN</td>\n",
       "      <td>togethercomputer/Pythia-Chat-Base-7B</td>\n",
       "      <td>Do all arthropods have antennae?</td>\n",
       "      <td>Yes, all insects and arachnids (including spi...</td>\n",
       "      <td>[-2.57427001, 5.1865358353, 5.4173498154, 2.32...</td>\n",
       "      <td>[ĠYes, ,, Ġall, Ġinsects, Ġand, Ġar, ach, n, i...</td>\n",
       "    </tr>\n",
       "    <tr>\n",
       "      <th>3</th>\n",
       "      <td>EN</td>\n",
       "      <td>togethercomputer/Pythia-Chat-Base-7B</td>\n",
       "      <td>Do all arthropods have antennae?</td>\n",
       "      <td>Yes, all insects and arachnids (including spi...</td>\n",
       "      <td>[-2.57427001, 5.1865358353, 5.4173498154, 2.32...</td>\n",
       "      <td>[ĠYes, ,, Ġall, Ġinsects, Ġand, Ġar, ach, n, i...</td>\n",
       "    </tr>\n",
       "    <tr>\n",
       "      <th>4</th>\n",
       "      <td>EN</td>\n",
       "      <td>togethercomputer/Pythia-Chat-Base-7B</td>\n",
       "      <td>Do all arthropods have antennae?</td>\n",
       "      <td>Yes, all insects and arachnids (including spi...</td>\n",
       "      <td>[-2.57427001, 5.1865358353, 5.4173498154, 2.32...</td>\n",
       "      <td>[ĠYes, ,, Ġall, Ġinsects, Ġand, Ġar, ach, n, i...</td>\n",
       "    </tr>\n",
       "  </tbody>\n",
       "</table>\n",
       "</div>"
      ],
      "text/plain": [
       "  lang                              model_id  \\\n",
       "0   EN  togethercomputer/Pythia-Chat-Base-7B   \n",
       "1   EN  togethercomputer/Pythia-Chat-Base-7B   \n",
       "2   EN  togethercomputer/Pythia-Chat-Base-7B   \n",
       "3   EN  togethercomputer/Pythia-Chat-Base-7B   \n",
       "4   EN  togethercomputer/Pythia-Chat-Base-7B   \n",
       "\n",
       "                        model_input  \\\n",
       "0  Do all arthropods have antennae?   \n",
       "1  Do all arthropods have antennae?   \n",
       "2  Do all arthropods have antennae?   \n",
       "3  Do all arthropods have antennae?   \n",
       "4  Do all arthropods have antennae?   \n",
       "\n",
       "                                   model_output_text  \\\n",
       "0   Yes, all insects and arachnids (including spi...   \n",
       "1   Yes, all insects and arachnids have at least ...   \n",
       "2   Yes, all insects and arachnids (including spi...   \n",
       "3   Yes, all insects and arachnids (including spi...   \n",
       "4   Yes, all insects and arachnids (including spi...   \n",
       "\n",
       "                                 model_output_logits  \\\n",
       "0  [-2.57427001, 5.1865358353, 5.4173498154, 2.32...   \n",
       "1  [-2.57427001, 5.1865358353, 5.4173498154, 2.32...   \n",
       "2  [-2.57427001, 5.1865358353, 5.4173498154, 2.32...   \n",
       "3  [-2.57427001, 5.1865358353, 5.4173498154, 2.32...   \n",
       "4  [-2.57427001, 5.1865358353, 5.4173498154, 2.32...   \n",
       "\n",
       "                                 model_output_tokens  \n",
       "0  [ĠYes, ,, Ġall, Ġinsects, Ġand, Ġar, ach, n, i...  \n",
       "1  [ĠYes, ,, Ġall, Ġinsects, Ġand, Ġar, ach, n, i...  \n",
       "2  [ĠYes, ,, Ġall, Ġinsects, Ġand, Ġar, ach, n, i...  \n",
       "3  [ĠYes, ,, Ġall, Ġinsects, Ġand, Ġar, ach, n, i...  \n",
       "4  [ĠYes, ,, Ġall, Ġinsects, Ġand, Ġar, ach, n, i...  "
      ]
     },
     "execution_count": 5,
     "metadata": {},
     "output_type": "execute_result"
    }
   ],
   "source": [
    "train_set.head()"
   ]
  },
  {
   "cell_type": "code",
   "execution_count": 6,
   "metadata": {},
   "outputs": [
    {
     "name": "stdout",
     "output_type": "stream",
     "text": [
      "There are 49 distinct questions and 809 total instances.\n",
      "There are 3 distinct LLMs.\n"
     ]
    }
   ],
   "source": [
    "qst_count = len(train_set.groupby(\"model_input\"))\n",
    "model_count = len(train_set.groupby(\"model_id\"))\n",
    "\n",
    "print(f\"There are {qst_count} distinct questions and {len(train_set)} total instances.\")\n",
    "print(f\"There are {round(model_count)} distinct LLMs.\")"
   ]
  },
  {
   "cell_type": "code",
   "execution_count": 7,
   "metadata": {},
   "outputs": [
    {
     "data": {
      "text/html": [
       "<div>\n",
       "<style scoped>\n",
       "    .dataframe tbody tr th:only-of-type {\n",
       "        vertical-align: middle;\n",
       "    }\n",
       "\n",
       "    .dataframe tbody tr th {\n",
       "        vertical-align: top;\n",
       "    }\n",
       "\n",
       "    .dataframe thead th {\n",
       "        text-align: right;\n",
       "    }\n",
       "</style>\n",
       "<table border=\"1\" class=\"dataframe\">\n",
       "  <thead>\n",
       "    <tr style=\"text-align: right;\">\n",
       "      <th></th>\n",
       "      <th>id</th>\n",
       "      <th>lang</th>\n",
       "      <th>model_input</th>\n",
       "      <th>model_output_text</th>\n",
       "      <th>model_id</th>\n",
       "      <th>soft_labels</th>\n",
       "      <th>hard_labels</th>\n",
       "      <th>model_output_logits</th>\n",
       "      <th>model_output_tokens</th>\n",
       "    </tr>\n",
       "  </thead>\n",
       "  <tbody>\n",
       "    <tr>\n",
       "      <th>0</th>\n",
       "      <td>val-en-1</td>\n",
       "      <td>EN</td>\n",
       "      <td>What did Petra van Staveren win a gold medal for?</td>\n",
       "      <td>Petra van Stoveren won a silver medal in the 2...</td>\n",
       "      <td>tiiuae/falcon-7b-instruct</td>\n",
       "      <td>[{'start': 10, 'prob': 0.2, 'end': 12}, {'star...</td>\n",
       "      <td>[[25, 31], [45, 49], [69, 83]]</td>\n",
       "      <td>[-5.5669536591, -11.90533638, -13.0743436813, ...</td>\n",
       "      <td>[Pet, ra, Ġvan, ĠSto, ve, ren, Ġwon, Ġa, Ġsilv...</td>\n",
       "    </tr>\n",
       "    <tr>\n",
       "      <th>1</th>\n",
       "      <td>val-en-2</td>\n",
       "      <td>EN</td>\n",
       "      <td>How many genera does the Erysiphales order con...</td>\n",
       "      <td>The Elysiphale order contains 5 genera.</td>\n",
       "      <td>tiiuae/falcon-7b-instruct</td>\n",
       "      <td>[{'start': 4, 'prob': 0.2, 'end': 14}, {'start...</td>\n",
       "      <td>[[30, 31]]</td>\n",
       "      <td>[-6.199614048, -13.7564926147, -14.0058326721,...</td>\n",
       "      <td>[The, ĠE, lys, iph, ale, Ġorder, Ġcontains, Ġ,...</td>\n",
       "    </tr>\n",
       "    <tr>\n",
       "      <th>2</th>\n",
       "      <td>val-en-3</td>\n",
       "      <td>EN</td>\n",
       "      <td>Do all arthropods have antennae?</td>\n",
       "      <td>Yes, all arachnids have antennas. However, not...</td>\n",
       "      <td>tiiuae/falcon-7b-instruct</td>\n",
       "      <td>[{'start': 0, 'prob': 0.6, 'end': 3}, {'start'...</td>\n",
       "      <td>[[0, 3], [9, 18], [63, 70], [78, 87]]</td>\n",
       "      <td>[-4.8190689087, -16.5279369354, -10.1344690323...</td>\n",
       "      <td>[Yes, ,, Ġall, Ġar, ach, n, ids, Ġhave, Ġanten...</td>\n",
       "    </tr>\n",
       "    <tr>\n",
       "      <th>3</th>\n",
       "      <td>val-en-4</td>\n",
       "      <td>EN</td>\n",
       "      <td>When did Chance the Rapper debut?</td>\n",
       "      <td>Chance the rapper debuted in 2011.</td>\n",
       "      <td>tiiuae/falcon-7b-instruct</td>\n",
       "      <td>[{'start': 18, 'prob': 0.0909090909, 'end': 29...</td>\n",
       "      <td>[[29, 33]]</td>\n",
       "      <td>[-6.2555613518, -10.9392805099, -13.1335763931...</td>\n",
       "      <td>[Ch, ance, Ġthe, Ġrapper, Ġdebuted, Ġin, Ġ, 20...</td>\n",
       "    </tr>\n",
       "    <tr>\n",
       "      <th>4</th>\n",
       "      <td>val-en-5</td>\n",
       "      <td>EN</td>\n",
       "      <td>What is the UN Sustainable Development Goal 11...</td>\n",
       "      <td>The UN's Sustainable City initiative defines a...</td>\n",
       "      <td>tiiuae/falcon-7b-instruct</td>\n",
       "      <td>[{'start': 0, 'prob': 0.0909090909, 'end': 9},...</td>\n",
       "      <td>[[70, 227]]</td>\n",
       "      <td>[-3.9737114906, -12.9197320938, -7.2846975327,...</td>\n",
       "      <td>[The, ĠUN, ', s, ĠSustainable, ĠCity, Ġinitiat...</td>\n",
       "    </tr>\n",
       "  </tbody>\n",
       "</table>\n",
       "</div>"
      ],
      "text/plain": [
       "         id lang                                        model_input  \\\n",
       "0  val-en-1   EN  What did Petra van Staveren win a gold medal for?   \n",
       "1  val-en-2   EN  How many genera does the Erysiphales order con...   \n",
       "2  val-en-3   EN                   Do all arthropods have antennae?   \n",
       "3  val-en-4   EN                  When did Chance the Rapper debut?   \n",
       "4  val-en-5   EN  What is the UN Sustainable Development Goal 11...   \n",
       "\n",
       "                                   model_output_text  \\\n",
       "0  Petra van Stoveren won a silver medal in the 2...   \n",
       "1            The Elysiphale order contains 5 genera.   \n",
       "2  Yes, all arachnids have antennas. However, not...   \n",
       "3                 Chance the rapper debuted in 2011.   \n",
       "4  The UN's Sustainable City initiative defines a...   \n",
       "\n",
       "                    model_id  \\\n",
       "0  tiiuae/falcon-7b-instruct   \n",
       "1  tiiuae/falcon-7b-instruct   \n",
       "2  tiiuae/falcon-7b-instruct   \n",
       "3  tiiuae/falcon-7b-instruct   \n",
       "4  tiiuae/falcon-7b-instruct   \n",
       "\n",
       "                                         soft_labels  \\\n",
       "0  [{'start': 10, 'prob': 0.2, 'end': 12}, {'star...   \n",
       "1  [{'start': 4, 'prob': 0.2, 'end': 14}, {'start...   \n",
       "2  [{'start': 0, 'prob': 0.6, 'end': 3}, {'start'...   \n",
       "3  [{'start': 18, 'prob': 0.0909090909, 'end': 29...   \n",
       "4  [{'start': 0, 'prob': 0.0909090909, 'end': 9},...   \n",
       "\n",
       "                             hard_labels  \\\n",
       "0         [[25, 31], [45, 49], [69, 83]]   \n",
       "1                             [[30, 31]]   \n",
       "2  [[0, 3], [9, 18], [63, 70], [78, 87]]   \n",
       "3                             [[29, 33]]   \n",
       "4                            [[70, 227]]   \n",
       "\n",
       "                                 model_output_logits  \\\n",
       "0  [-5.5669536591, -11.90533638, -13.0743436813, ...   \n",
       "1  [-6.199614048, -13.7564926147, -14.0058326721,...   \n",
       "2  [-4.8190689087, -16.5279369354, -10.1344690323...   \n",
       "3  [-6.2555613518, -10.9392805099, -13.1335763931...   \n",
       "4  [-3.9737114906, -12.9197320938, -7.2846975327,...   \n",
       "\n",
       "                                 model_output_tokens  \n",
       "0  [Pet, ra, Ġvan, ĠSto, ve, ren, Ġwon, Ġa, Ġsilv...  \n",
       "1  [The, ĠE, lys, iph, ale, Ġorder, Ġcontains, Ġ,...  \n",
       "2  [Yes, ,, Ġall, Ġar, ach, n, ids, Ġhave, Ġanten...  \n",
       "3  [Ch, ance, Ġthe, Ġrapper, Ġdebuted, Ġin, Ġ, 20...  \n",
       "4  [The, ĠUN, ', s, ĠSustainable, ĠCity, Ġinitiat...  "
      ]
     },
     "execution_count": 7,
     "metadata": {},
     "output_type": "execute_result"
    }
   ],
   "source": [
    "val_set.head()"
   ]
  },
  {
   "cell_type": "code",
   "execution_count": 8,
   "metadata": {},
   "outputs": [
    {
     "name": "stdout",
     "output_type": "stream",
     "text": [
      "There are 50 distinct questions.\n",
      "There are 3 distinct LLMs.\n"
     ]
    }
   ],
   "source": [
    "qst_count = len(val_set.groupby(\"model_input\"))\n",
    "model_count = len(val_set.groupby(\"model_id\"))\n",
    "\n",
    "print(f\"There are {qst_count} distinct questions.\")\n",
    "print(f\"There are {round(model_count)} distinct LLMs.\")"
   ]
  },
  {
   "cell_type": "code",
   "execution_count": 9,
   "metadata": {},
   "outputs": [
    {
     "name": "stdout",
     "output_type": "stream",
     "text": [
      "VAL -> TRAIN\n",
      "There are 49 common and 1 different questions.\n",
      "TRAIN -> VAL\n",
      "There are 809 common and 0 different questions.\n"
     ]
    }
   ],
   "source": [
    "common_qst_1 = val_set[val_set[\"model_input\"].isin(train_set[\"model_input\"])]\n",
    "different_qst_1 = val_set[~val_set[\"model_input\"].isin(train_set[\"model_input\"])]\n",
    "\n",
    "print(\"VAL -> TRAIN\")\n",
    "print(f\"There are {len(common_qst_1)} common and {len(different_qst_1)} different questions.\")\n",
    "\n",
    "common_qst_2 = train_set[train_set[\"model_input\"].isin(val_set[\"model_input\"])]\n",
    "different_qst_2 = train_set[~train_set[\"model_input\"].isin(val_set[\"model_input\"])]\n",
    "\n",
    "print(\"TRAIN -> VAL\")\n",
    "print(f\"There are {len(common_qst_2)} common and {len(different_qst_2)} different questions.\")"
   ]
  },
  {
   "cell_type": "code",
   "execution_count": 10,
   "metadata": {},
   "outputs": [
    {
     "name": "stdout",
     "output_type": "stream",
     "text": [
      "VAL -> TRAIN\n",
      "There are 0 common and 50 different answers.\n",
      "TRAIN -> VAL\n",
      "There are 0 common and 809 different answers.\n"
     ]
    }
   ],
   "source": [
    "common_asw_1 = val_set[val_set[\"model_output_text\"].isin(train_set[\"model_output_text\"])]\n",
    "different_asw_1 = val_set[~val_set[\"model_output_text\"].isin(train_set[\"model_output_text\"])]\n",
    "\n",
    "print(\"VAL -> TRAIN\")\n",
    "print(f\"There are {len(common_asw_1)} common and {len(different_asw_1)} different answers.\")\n",
    "\n",
    "common_asw_2 = train_set[train_set[\"model_output_text\"].isin(val_set[\"model_output_text\"])]\n",
    "different_asw_2 = train_set[~train_set[\"model_output_text\"].isin(val_set[\"model_output_text\"])]\n",
    "\n",
    "print(\"TRAIN -> VAL\")\n",
    "print(f\"There are {len(common_asw_2)} common and {len(different_asw_2)} different answers.\")"
   ]
  },
  {
   "cell_type": "code",
   "execution_count": 11,
   "metadata": {},
   "outputs": [
    {
     "data": {
      "text/plain": [
       "id                                                              val-en-1\n",
       "lang                                                                  EN\n",
       "model_input            What did Petra van Staveren win a gold medal for?\n",
       "model_output_text      Petra van Stoveren won a silver medal in the 2...\n",
       "model_id                                       tiiuae/falcon-7b-instruct\n",
       "soft_labels            [{'start': 10, 'prob': 0.2, 'end': 12}, {'star...\n",
       "hard_labels                               [[25, 31], [45, 49], [69, 83]]\n",
       "model_output_logits    [-5.5669536591, -11.90533638, -13.0743436813, ...\n",
       "model_output_tokens    [Pet, ra, Ġvan, ĠSto, ve, ren, Ġwon, Ġa, Ġsilv...\n",
       "Name: 0, dtype: object"
      ]
     },
     "execution_count": 11,
     "metadata": {},
     "output_type": "execute_result"
    }
   ],
   "source": [
    "val_set.loc[0]"
   ]
  },
  {
   "cell_type": "code",
   "execution_count": 12,
   "metadata": {},
   "outputs": [],
   "source": [
    "data = val_set.loc[0]\n",
    "\n",
    "tokens = data[\"model_output_tokens\"]\n",
    "probabilities = data[\"model_output_logits\"]\n",
    "hard_labels = data[\"hard_labels\"]"
   ]
  },
  {
   "cell_type": "code",
   "execution_count": 13,
   "metadata": {},
   "outputs": [
    {
     "name": "stdout",
     "output_type": "stream",
     "text": [
      "silver\n",
      "2008\n",
      "Beijing, China\n"
     ]
    }
   ],
   "source": [
    "# -----------------------\n",
    "# Print hallucinated text\n",
    "# -----------------------\n",
    "for pair in hard_labels:\n",
    "    print(data[\"model_output_text\"][pair[0]:pair[1]])"
   ]
  },
  {
   "cell_type": "code",
   "execution_count": 14,
   "metadata": {},
   "outputs": [
    {
     "data": {
      "image/png": "[encoded data removed]",
      "text/plain": [
       "<Figure size 1500x500 with 1 Axes>"
      ]
     },
     "metadata": {},
     "output_type": "display_data"
    }
   ],
   "source": [
    "# -----------------------\n",
    "# Plot hallucinated tokens with hard labels and padded soft labels\n",
    "# -----------------------\n",
    "num_tokens = len(tokens)\n",
    "num_probs = len(probabilities)\n",
    "\n",
    "# Calculate character spans for each token\n",
    "token_spans = []\n",
    "current_position = 0\n",
    "for token in tokens:\n",
    "    token_start = current_position\n",
    "    token_end = token_start + len(token)\n",
    "    token_spans.append((token_start, token_end))\n",
    "    current_position = token_end\n",
    "\n",
    "# Convert hard_labels (character positions) to token indices\n",
    "hard_hallucination_token_indices = set()\n",
    "for start_char, end_char in hard_labels:\n",
    "    for i, (token_start, token_end) in enumerate(token_spans):\n",
    "        # Check if token overlaps with the hallucination character range\n",
    "        if token_start < end_char and token_end > start_char:\n",
    "            hard_hallucination_token_indices.add(i)\n",
    "\n",
    "# Convert soft_labels (character spans and probabilities) to token indices\n",
    "soft_hallucination_probs = [None] * num_tokens  # Initialize with None\n",
    "for annotation in data[\"soft_labels\"]:\n",
    "    start_char, end_char, prob = annotation[\"start\"], annotation[\"end\"], annotation[\"prob\"]\n",
    "    for i, (token_start, token_end) in enumerate(token_spans):\n",
    "        # Check if token overlaps with the hallucination character range\n",
    "        if token_start < end_char and token_end > start_char:\n",
    "            if prob > 0:  # Only include probabilities greater than 0\n",
    "                soft_hallucination_probs[i] = prob\n",
    "\n",
    "# Plotting\n",
    "plt.figure(figsize=(15, 5))\n",
    "plt.plot(probabilities, marker='o', linestyle='-', color='b', label='Logits')\n",
    "\n",
    "# Add hard hallucination markers\n",
    "for i in hard_hallucination_token_indices:\n",
    "    plt.axvspan(i - 0.5, i + 0.5, color='red', alpha=0.3, label=\"Hallucination Region\")\n",
    "\n",
    "# Add soft hallucination line (pad with None for non-hallucinated tokens)\n",
    "plt.plot(\n",
    "    [p if p is not None else None for p in soft_hallucination_probs],\n",
    "    linestyle='-', color='red', linewidth=2, label=\"Hallucination Probability\"\n",
    ")\n",
    "\n",
    "# Avoid duplicate legend entries for hallucination regions\n",
    "handles, labels = plt.gca().get_legend_handles_labels()\n",
    "by_label = dict(zip(labels, handles))\n",
    "plt.legend(by_label.values(), by_label.keys())\n",
    "\n",
    "# Configure x-axis for tokens\n",
    "plt.xticks(ticks=range(len(tokens)), labels=tokens, rotation=90, fontsize=8)\n",
    "plt.xlabel(\"Tokens\")\n",
    "plt.ylabel(\"Logit Values / Hallucination Probabilities\")\n",
    "plt.title(\"Output logits and hallucinated tokens (Hard & Soft Labels)\")\n",
    "plt.grid(alpha=0.3)\n",
    "plt.tight_layout()\n",
    "plt.show()\n"
   ]
  },
  {
   "cell_type": "code",
   "execution_count": 15,
   "metadata": {},
   "outputs": [],
   "source": [
    "# # -----------------------\n",
    "# # Plot hallucinated tokens with hard labels and soft labels as a line\n",
    "# # -----------------------\n",
    "# num_tokens = len(tokens)\n",
    "# num_probs = len(probabilities)\n",
    "# \n",
    "# # Calculate character spans for each token\n",
    "# token_spans = []\n",
    "# current_position = 0\n",
    "# for token in tokens:\n",
    "#     token_start = current_position\n",
    "#     token_end = token_start + len(token)\n",
    "#     token_spans.append((token_start, token_end))\n",
    "#     current_position = token_end\n",
    "# \n",
    "# # Convert hard_labels (character positions) to token indices\n",
    "# hard_hallucination_token_indices = set()\n",
    "# for start_char, end_char in hard_labels:\n",
    "#     for i, (token_start, token_end) in enumerate(token_spans):\n",
    "#         # Check if token overlaps with the hallucination character range\n",
    "#         if token_start < end_char and token_end > start_char:\n",
    "#             hard_hallucination_token_indices.add(i)\n",
    "# \n",
    "# # Compute soft hallucination probabilities for each token\n",
    "# soft_hallucination_probs = [0.0] * num_tokens  # Initialize with 0.0 (no hallucination)\n",
    "# for annotation in data[\"soft_labels\"]:\n",
    "#     start_char, end_char, prob = annotation[\"start\"], annotation[\"end\"], annotation[\"prob\"]\n",
    "#     for i, (token_start, token_end) in enumerate(token_spans):\n",
    "#         # Check if token overlaps with the hallucination character range\n",
    "#         if token_start < end_char and token_end > start_char:\n",
    "#             soft_hallucination_probs[i] = max(soft_hallucination_probs[i], prob)  # Take the max probability\n",
    "# \n",
    "# # Plotting\n",
    "# plt.figure(figsize=(15, 5))\n",
    "# plt.plot(probabilities, marker='o', linestyle='-', color='b', label='Logits')\n",
    "# \n",
    "# # Add hard hallucination markers\n",
    "# for i in hard_hallucination_token_indices:\n",
    "#     plt.axvspan(i - 0.5, i + 0.5, color='red', alpha=0.3, label=\"Hallucination Region\")\n",
    "# \n",
    "# # Plot soft hallucination probabilities as a line\n",
    "# plt.plot(range(num_tokens), soft_hallucination_probs, marker='x', linestyle='--', color='red', label='Hallucination Probability')\n",
    "# \n",
    "# # Avoid duplicate legend entries for hallucination regions\n",
    "# handles, labels = plt.gca().get_legend_handles_labels()\n",
    "# by_label = dict(zip(labels, handles))\n",
    "# plt.legend(by_label.values(), by_label.keys())\n",
    "# \n",
    "# # Configure x-axis for tokens\n",
    "# plt.xticks(ticks=range(len(tokens)), labels=tokens, rotation=90, fontsize=8)\n",
    "# plt.xlabel(\"Tokens\")\n",
    "# plt.ylabel(\"Logit Values / Hallucination Probabilities\")\n",
    "# plt.title(\"Output logits and hallucinated tokens (Hard & Soft Labels)\")\n",
    "# plt.grid(alpha=0.3)\n",
    "# plt.tight_layout()\n",
    "# plt.show()\n",
    "# "
   ]
  }
 ],
 "metadata": {
  "kernelspec": {
   "display_name": ".venv",
   "language": "python",
   "name": "python3"
  },
  "language_info": {
   "codemirror_mode": {
    "name": "ipython",
    "version": 3
   },
   "file_extension": ".py",
   "mimetype": "text/x-python",
   "name": "python",
   "nbconvert_exporter": "python",
   "pygments_lexer": "ipython3",
   "version": "3.11.5"
  }
 },
 "nbformat": 4,
 "nbformat_minor": 2
}
